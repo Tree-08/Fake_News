{
 "cells": [
  {
   "cell_type": "code",
   "execution_count": 3,
   "id": "b71fc2e1",
   "metadata": {},
   "outputs": [],
   "source": [
    "import numpy as np\n",
    "import pandas as pd"
   ]
  },
  {
   "cell_type": "code",
   "execution_count": null,
   "id": "d9ae958d",
   "metadata": {},
   "outputs": [],
   "source": [
    "class DecisionTreeClassifier():\n",
    "    def __init__(self, min_sample_split=2, max_depth=2):\n",
    "        \n",
    "        self.min_sample_split = min_sample_split\n",
    "        self.max_depth = max_depth\n",
    "\n",
    "    def build_tree(self, X, y, curr_depth=0):\n",
    "        samples, features = X.shape\n",
    "        data = np.concatenate((X, y.reshape(-1, 1)), axis=1)\n",
    "        if samples >= self.min_sample_split and curr_depth <= self.max_depth:\n",
    "            '''Go forward'''\n",
    "        \n",
    "    def best_split(self, data, samples, features):\n",
    "        best = {}\n",
    "        max_ig = -np.inf\n",
    "\n",
    "        for fi in range(features):\n",
    "            feature_vals = data[:,fi]\n",
    "            u_vals = np.unique(feature_vals)\n",
    "            for u in u_vals:\n",
    "                data_left, data_right = self.split(data, fi, u)\n",
    "                if len(data_left) > 0 and len(data_right) > 0:\n",
    "                    y,y_left,y_right = data[:,-1], data_left[:,-1], data_right[:,-1]\n",
    "                    ig = self.info_gain(y, y_left, y_right)\n",
    "                    if ig>max_ig:\n",
    "                        best[\"feature_index\"] = fi\n",
    "                        best[\"condition\"] = u\n",
    "                        best[\"data_left\"] = data_left\n",
    "                        best[\"data_right\"] = data_right\n",
    "                        best[\"info_gain\"] = ig\n",
    "                        max_ig = ig\n",
    "        return best\n",
    "    \n",
    "    def split(self, data, fi, u):\n",
    "        data_left = np.array([row for row in data if row[fi]<=u])\n",
    "        data_right = np.array([row for row in data if row[fi]>u])\n",
    "        return data_left, data_right\n",
    "    \n",
    "    def info_gain(self, y, y_left, y_right):\n",
    "        wt_l = len(y_left)/len(y)\n",
    "        wt_r = len(y_right)/len(y)\n",
    "        gain = self.entropy(y) - (wt_l*self.entropy(y_left) + wt_r*self.entropy(y_right))\n",
    "        return gain\n",
    "    \n",
    "    def entropy(self, y):\n",
    "        labels = np.unique(y)\n",
    "        entropy = 0\n",
    "        for l in labels:\n",
    "            p = len(y[y==l])/len(y)\n",
    "            entropy+=(-p)*np.log2(p)\n",
    "        return entropy"
   ]
  },
  {
   "cell_type": "code",
   "execution_count": null,
   "id": "8e75d15a",
   "metadata": {},
   "outputs": [],
   "source": []
  }
 ],
 "metadata": {
  "kernelspec": {
   "display_name": "Python 3",
   "language": "python",
   "name": "python3"
  },
  "language_info": {
   "codemirror_mode": {
    "name": "ipython",
    "version": 3
   },
   "file_extension": ".py",
   "mimetype": "text/x-python",
   "name": "python",
   "nbconvert_exporter": "python",
   "pygments_lexer": "ipython3",
   "version": "3.12.3"
  }
 },
 "nbformat": 4,
 "nbformat_minor": 5
}
